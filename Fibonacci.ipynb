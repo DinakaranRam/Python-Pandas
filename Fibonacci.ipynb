{
 "cells": [
  {
   "cell_type": "code",
   "execution_count": 13,
   "id": "b273bb96-90bf-40d9-859f-7493e5387491",
   "metadata": {},
   "outputs": [],
   "source": [
    "def fibonacci(n):\n",
    "    fib_series = [0,1]\n",
    "    while (len(fib_series) < n):\n",
    "        fib_series.append(fib_series[-1]+fib_series[-2])\n",
    "    return (fib_series)    "
   ]
  },
  {
   "cell_type": "code",
   "execution_count": 12,
   "id": "2f9b2983-21ce-4f8b-af24-877056a16fc6",
   "metadata": {},
   "outputs": [
    {
     "name": "stdout",
     "output_type": "stream",
     "text": [
      "[0, 1, 1, 2, 3, 5, 8, 13, 21, 34, 55, 89, 144, 233]\n"
     ]
    }
   ],
   "source": [
    "print(fibonacci(14))"
   ]
  },
  {
   "cell_type": "code",
   "execution_count": 5,
   "id": "f628db4c-f59f-486b-89e8-730f8f24fe89",
   "metadata": {},
   "outputs": [
    {
     "name": "stdout",
     "output_type": "stream",
     "text": [
      "[0, 1, 1, 2, 3, 5, 8, 13, 21, 34, 55, 89, 144, 233, 377, 610, 987, 1597, 2584, 4181, 6765, 10946, 17711, 28657, 46368, 75025, 121393, 196418, 317811, 514229, 832040, 1346269]\n"
     ]
    }
   ],
   "source": [
    "print(fibonacci(32))"
   ]
  },
  {
   "cell_type": "code",
   "execution_count": null,
   "id": "1dcc6cfa-1ae7-4817-88d5-3e7daa221d04",
   "metadata": {},
   "outputs": [],
   "source": []
  }
 ],
 "metadata": {
  "kernelspec": {
   "display_name": "Python 3 (ipykernel)",
   "language": "python",
   "name": "python3"
  },
  "language_info": {
   "codemirror_mode": {
    "name": "ipython",
    "version": 3
   },
   "file_extension": ".py",
   "mimetype": "text/x-python",
   "name": "python",
   "nbconvert_exporter": "python",
   "pygments_lexer": "ipython3",
   "version": "3.12.4"
  }
 },
 "nbformat": 4,
 "nbformat_minor": 5
}
