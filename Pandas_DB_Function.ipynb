{
 "cells": [
  {
   "cell_type": "code",
   "execution_count": 3,
   "id": "24c6d3c2-2aaa-49b6-ac2e-cbf082547d10",
   "metadata": {},
   "outputs": [],
   "source": [
    "import pandas"
   ]
  },
  {
   "cell_type": "code",
   "execution_count": 4,
   "id": "0c71869e-692d-40c4-9df8-1cd67dbac3fb",
   "metadata": {},
   "outputs": [
    {
     "name": "stdout",
     "output_type": "stream",
     "text": [
      "2.2.2\n"
     ]
    }
   ],
   "source": [
    "print(pandas.__version__)"
   ]
  },
  {
   "cell_type": "code",
   "execution_count": 5,
   "id": "de0e8b39-e720-49b6-9659-59ec0e3f552a",
   "metadata": {},
   "outputs": [],
   "source": [
    " DataFrame = pandas.read_csv(r\"C:\\Users\\a059361\\.anaconda\\Advertising.csv\")"
   ]
  },
  {
   "cell_type": "code",
   "execution_count": 16,
   "id": "0465e48b-ea2c-4230-9c0c-1365e69034e8",
   "metadata": {},
   "outputs": [],
   "source": [
    " DF = pandas.read_excel(r\"C:\\Users\\a059361\\Downloads\\PMSPSA15_AS400 and EDW_LAND Mismatch.xlsx\")"
   ]
  },
  {
   "cell_type": "code",
   "execution_count": 6,
   "id": "1c8f0c05-17bc-4e9e-9110-203be9863b02",
   "metadata": {},
   "outputs": [
    {
     "data": {
      "text/plain": [
       "0     100\n",
       "1     200\n",
       "2     355\n",
       "3     465\n",
       "4     765\n",
       "5     800\n",
       "6    1000\n",
       "7    2000\n",
       "Name: TV, dtype: int64"
      ]
     },
     "execution_count": 6,
     "metadata": {},
     "output_type": "execute_result"
    }
   ],
   "source": [
    "DataFrame['TV']"
   ]
  },
  {
   "cell_type": "code",
   "execution_count": 7,
   "id": "8538563d-c0ed-465d-86b9-4e155d546fb3",
   "metadata": {},
   "outputs": [
    {
     "data": {
      "text/html": [
       "<div>\n",
       "<style scoped>\n",
       "    .dataframe tbody tr th:only-of-type {\n",
       "        vertical-align: middle;\n",
       "    }\n",
       "\n",
       "    .dataframe tbody tr th {\n",
       "        vertical-align: top;\n",
       "    }\n",
       "\n",
       "    .dataframe thead th {\n",
       "        text-align: right;\n",
       "    }\n",
       "</style>\n",
       "<table border=\"1\" class=\"dataframe\">\n",
       "  <thead>\n",
       "    <tr style=\"text-align: right;\">\n",
       "      <th></th>\n",
       "      <th>TV</th>\n",
       "      <th>Sales</th>\n",
       "    </tr>\n",
       "  </thead>\n",
       "  <tbody>\n",
       "    <tr>\n",
       "      <th>0</th>\n",
       "      <td>100</td>\n",
       "      <td>10</td>\n",
       "    </tr>\n",
       "    <tr>\n",
       "      <th>1</th>\n",
       "      <td>200</td>\n",
       "      <td>15</td>\n",
       "    </tr>\n",
       "    <tr>\n",
       "      <th>2</th>\n",
       "      <td>355</td>\n",
       "      <td>30</td>\n",
       "    </tr>\n",
       "    <tr>\n",
       "      <th>3</th>\n",
       "      <td>465</td>\n",
       "      <td>50</td>\n",
       "    </tr>\n",
       "    <tr>\n",
       "      <th>4</th>\n",
       "      <td>765</td>\n",
       "      <td>77</td>\n",
       "    </tr>\n",
       "    <tr>\n",
       "      <th>5</th>\n",
       "      <td>800</td>\n",
       "      <td>75</td>\n",
       "    </tr>\n",
       "    <tr>\n",
       "      <th>6</th>\n",
       "      <td>1000</td>\n",
       "      <td>80</td>\n",
       "    </tr>\n",
       "    <tr>\n",
       "      <th>7</th>\n",
       "      <td>2000</td>\n",
       "      <td>150</td>\n",
       "    </tr>\n",
       "  </tbody>\n",
       "</table>\n",
       "</div>"
      ],
      "text/plain": [
       "     TV  Sales\n",
       "0   100     10\n",
       "1   200     15\n",
       "2   355     30\n",
       "3   465     50\n",
       "4   765     77\n",
       "5   800     75\n",
       "6  1000     80\n",
       "7  2000    150"
      ]
     },
     "execution_count": 7,
     "metadata": {},
     "output_type": "execute_result"
    }
   ],
   "source": [
    "DataFrame[['TV','Sales']]"
   ]
  },
  {
   "cell_type": "code",
   "execution_count": 22,
   "id": "38d32ed2-41a2-497d-b33f-a9f56caa988a",
   "metadata": {},
   "outputs": [
    {
     "data": {
      "text/html": [
       "<div>\n",
       "<style scoped>\n",
       "    .dataframe tbody tr th:only-of-type {\n",
       "        vertical-align: middle;\n",
       "    }\n",
       "\n",
       "    .dataframe tbody tr th {\n",
       "        vertical-align: top;\n",
       "    }\n",
       "\n",
       "    .dataframe thead th {\n",
       "        text-align: right;\n",
       "    }\n",
       "</style>\n",
       "<table border=\"1\" class=\"dataframe\">\n",
       "  <thead>\n",
       "    <tr style=\"text-align: right;\">\n",
       "      <th></th>\n",
       "      <th>TV</th>\n",
       "      <th>Sales</th>\n",
       "    </tr>\n",
       "  </thead>\n",
       "  <tbody>\n",
       "    <tr>\n",
       "      <th>0</th>\n",
       "      <td>100</td>\n",
       "      <td>10</td>\n",
       "    </tr>\n",
       "    <tr>\n",
       "      <th>1</th>\n",
       "      <td>200</td>\n",
       "      <td>15</td>\n",
       "    </tr>\n",
       "    <tr>\n",
       "      <th>2</th>\n",
       "      <td>355</td>\n",
       "      <td>30</td>\n",
       "    </tr>\n",
       "  </tbody>\n",
       "</table>\n",
       "</div>"
      ],
      "text/plain": [
       "    TV  Sales\n",
       "0  100     10\n",
       "1  200     15\n",
       "2  355     30"
      ]
     },
     "execution_count": 22,
     "metadata": {},
     "output_type": "execute_result"
    }
   ],
   "source": [
    "DataFrame.loc[:2]"
   ]
  },
  {
   "cell_type": "code",
   "execution_count": 21,
   "id": "5617e3f9-0bd7-4f4b-81ce-679186935798",
   "metadata": {},
   "outputs": [
    {
     "data": {
      "text/html": [
       "<div>\n",
       "<style scoped>\n",
       "    .dataframe tbody tr th:only-of-type {\n",
       "        vertical-align: middle;\n",
       "    }\n",
       "\n",
       "    .dataframe tbody tr th {\n",
       "        vertical-align: top;\n",
       "    }\n",
       "\n",
       "    .dataframe thead th {\n",
       "        text-align: right;\n",
       "    }\n",
       "</style>\n",
       "<table border=\"1\" class=\"dataframe\">\n",
       "  <thead>\n",
       "    <tr style=\"text-align: right;\">\n",
       "      <th></th>\n",
       "      <th>TV</th>\n",
       "      <th>Sales</th>\n",
       "    </tr>\n",
       "  </thead>\n",
       "  <tbody>\n",
       "    <tr>\n",
       "      <th>0</th>\n",
       "      <td>100</td>\n",
       "      <td>10</td>\n",
       "    </tr>\n",
       "    <tr>\n",
       "      <th>1</th>\n",
       "      <td>200</td>\n",
       "      <td>15</td>\n",
       "    </tr>\n",
       "  </tbody>\n",
       "</table>\n",
       "</div>"
      ],
      "text/plain": [
       "    TV  Sales\n",
       "0  100     10\n",
       "1  200     15"
      ]
     },
     "execution_count": 21,
     "metadata": {},
     "output_type": "execute_result"
    }
   ],
   "source": [
    "DataFrame.iloc[:2]"
   ]
  },
  {
   "cell_type": "code",
   "execution_count": 24,
   "id": "f67360e8-2c61-4fbd-b1f9-1803046d2026",
   "metadata": {},
   "outputs": [
    {
     "data": {
      "text/html": [
       "<div>\n",
       "<style scoped>\n",
       "    .dataframe tbody tr th:only-of-type {\n",
       "        vertical-align: middle;\n",
       "    }\n",
       "\n",
       "    .dataframe tbody tr th {\n",
       "        vertical-align: top;\n",
       "    }\n",
       "\n",
       "    .dataframe thead th {\n",
       "        text-align: right;\n",
       "    }\n",
       "</style>\n",
       "<table border=\"1\" class=\"dataframe\">\n",
       "  <thead>\n",
       "    <tr style=\"text-align: right;\">\n",
       "      <th></th>\n",
       "      <th>TV</th>\n",
       "      <th>Sales</th>\n",
       "    </tr>\n",
       "  </thead>\n",
       "  <tbody>\n",
       "    <tr>\n",
       "      <th>6</th>\n",
       "      <td>1000</td>\n",
       "      <td>80</td>\n",
       "    </tr>\n",
       "    <tr>\n",
       "      <th>7</th>\n",
       "      <td>2000</td>\n",
       "      <td>150</td>\n",
       "    </tr>\n",
       "  </tbody>\n",
       "</table>\n",
       "</div>"
      ],
      "text/plain": [
       "     TV  Sales\n",
       "6  1000     80\n",
       "7  2000    150"
      ]
     },
     "execution_count": 24,
     "metadata": {},
     "output_type": "execute_result"
    }
   ],
   "source": [
    "DataFrame.iloc[-2:]"
   ]
  },
  {
   "cell_type": "code",
   "execution_count": 26,
   "id": "ee0682ff-efd9-43ef-b0dd-aa9b4e599e4d",
   "metadata": {},
   "outputs": [
    {
     "data": {
      "text/plain": [
       "0    False\n",
       "1    False\n",
       "2    False\n",
       "3    False\n",
       "4     True\n",
       "5     True\n",
       "6     True\n",
       "7     True\n",
       "Name: Sales, dtype: bool"
      ]
     },
     "execution_count": 26,
     "metadata": {},
     "output_type": "execute_result"
    }
   ],
   "source": [
    "DataFrame['Sales']>50"
   ]
  },
  {
   "cell_type": "code",
   "execution_count": 17,
   "id": "e801584c-e05f-4d4a-b59e-5444a5853789",
   "metadata": {},
   "outputs": [
    {
     "data": {
      "text/plain": [
       "0       False\n",
       "1       False\n",
       "2       False\n",
       "3       False\n",
       "4       False\n",
       "        ...  \n",
       "4534    False\n",
       "4535    False\n",
       "4536    False\n",
       "4537    False\n",
       "4538    False\n",
       "Name: SARPREM, Length: 4539, dtype: bool"
      ]
     },
     "execution_count": 17,
     "metadata": {},
     "output_type": "execute_result"
    }
   ],
   "source": [
    "DF['SARPREM']>5000"
   ]
  },
  {
   "cell_type": "code",
   "execution_count": 8,
   "id": "17d1fbe4-b916-487c-a719-716335b00111",
   "metadata": {},
   "outputs": [
    {
     "data": {
      "text/html": [
       "<div>\n",
       "<style scoped>\n",
       "    .dataframe tbody tr th:only-of-type {\n",
       "        vertical-align: middle;\n",
       "    }\n",
       "\n",
       "    .dataframe tbody tr th {\n",
       "        vertical-align: top;\n",
       "    }\n",
       "\n",
       "    .dataframe thead th {\n",
       "        text-align: right;\n",
       "    }\n",
       "</style>\n",
       "<table border=\"1\" class=\"dataframe\">\n",
       "  <thead>\n",
       "    <tr style=\"text-align: right;\">\n",
       "      <th></th>\n",
       "      <th>TV</th>\n",
       "      <th>Sales</th>\n",
       "    </tr>\n",
       "  </thead>\n",
       "  <tbody>\n",
       "    <tr>\n",
       "      <th>3</th>\n",
       "      <td>465</td>\n",
       "      <td>50</td>\n",
       "    </tr>\n",
       "  </tbody>\n",
       "</table>\n",
       "</div>"
      ],
      "text/plain": [
       "    TV  Sales\n",
       "3  465     50"
      ]
     },
     "execution_count": 8,
     "metadata": {},
     "output_type": "execute_result"
    }
   ],
   "source": [
    "DataFrame[DataFrame['Sales']==50]"
   ]
  },
  {
   "cell_type": "code",
   "execution_count": 32,
   "id": "6a6f7f90-a570-4b5f-8dc9-1b67963685c8",
   "metadata": {},
   "outputs": [],
   "source": [
    "DataFrame['Id'] = 1"
   ]
  },
  {
   "cell_type": "code",
   "execution_count": 33,
   "id": "12c1ff89-0920-4a38-af2b-6ba643a7ecc2",
   "metadata": {},
   "outputs": [
    {
     "data": {
      "text/html": [
       "<div>\n",
       "<style scoped>\n",
       "    .dataframe tbody tr th:only-of-type {\n",
       "        vertical-align: middle;\n",
       "    }\n",
       "\n",
       "    .dataframe tbody tr th {\n",
       "        vertical-align: top;\n",
       "    }\n",
       "\n",
       "    .dataframe thead th {\n",
       "        text-align: right;\n",
       "    }\n",
       "</style>\n",
       "<table border=\"1\" class=\"dataframe\">\n",
       "  <thead>\n",
       "    <tr style=\"text-align: right;\">\n",
       "      <th></th>\n",
       "      <th>TV</th>\n",
       "      <th>Sales</th>\n",
       "      <th>Id</th>\n",
       "    </tr>\n",
       "  </thead>\n",
       "  <tbody>\n",
       "    <tr>\n",
       "      <th>0</th>\n",
       "      <td>100</td>\n",
       "      <td>10</td>\n",
       "      <td>1</td>\n",
       "    </tr>\n",
       "    <tr>\n",
       "      <th>1</th>\n",
       "      <td>200</td>\n",
       "      <td>15</td>\n",
       "      <td>1</td>\n",
       "    </tr>\n",
       "    <tr>\n",
       "      <th>2</th>\n",
       "      <td>355</td>\n",
       "      <td>30</td>\n",
       "      <td>1</td>\n",
       "    </tr>\n",
       "    <tr>\n",
       "      <th>3</th>\n",
       "      <td>465</td>\n",
       "      <td>50</td>\n",
       "      <td>1</td>\n",
       "    </tr>\n",
       "    <tr>\n",
       "      <th>4</th>\n",
       "      <td>765</td>\n",
       "      <td>77</td>\n",
       "      <td>1</td>\n",
       "    </tr>\n",
       "    <tr>\n",
       "      <th>5</th>\n",
       "      <td>800</td>\n",
       "      <td>75</td>\n",
       "      <td>1</td>\n",
       "    </tr>\n",
       "    <tr>\n",
       "      <th>6</th>\n",
       "      <td>1000</td>\n",
       "      <td>80</td>\n",
       "      <td>1</td>\n",
       "    </tr>\n",
       "    <tr>\n",
       "      <th>7</th>\n",
       "      <td>2000</td>\n",
       "      <td>150</td>\n",
       "      <td>1</td>\n",
       "    </tr>\n",
       "  </tbody>\n",
       "</table>\n",
       "</div>"
      ],
      "text/plain": [
       "     TV  Sales  Id\n",
       "0   100     10   1\n",
       "1   200     15   1\n",
       "2   355     30   1\n",
       "3   465     50   1\n",
       "4   765     77   1\n",
       "5   800     75   1\n",
       "6  1000     80   1\n",
       "7  2000    150   1"
      ]
     },
     "execution_count": 33,
     "metadata": {},
     "output_type": "execute_result"
    }
   ],
   "source": [
    "DataFrame"
   ]
  },
  {
   "cell_type": "code",
   "execution_count": 34,
   "id": "5856a645-995b-4bd7-ae55-8fc1b3897e03",
   "metadata": {},
   "outputs": [
    {
     "data": {
      "text/plain": [
       "<pandas.core.groupby.generic.DataFrameGroupBy object at 0x0000023B58E433E0>"
      ]
     },
     "execution_count": 34,
     "metadata": {},
     "output_type": "execute_result"
    }
   ],
   "source": [
    "DataFrame.groupby('TV')"
   ]
  },
  {
   "cell_type": "code",
   "execution_count": 37,
   "id": "05c3323c-5d93-4af3-bd80-8c08d1d546b9",
   "metadata": {},
   "outputs": [
    {
     "data": {
      "text/plain": [
       "TV\n",
       "100     1\n",
       "200     1\n",
       "355     1\n",
       "465     1\n",
       "765     1\n",
       "800     1\n",
       "1000    1\n",
       "2000    1\n",
       "Name: Sales, dtype: int64"
      ]
     },
     "execution_count": 37,
     "metadata": {},
     "output_type": "execute_result"
    }
   ],
   "source": [
    "DataFrame['Sales'].groupby(DataFrame['TV']).count()"
   ]
  },
  {
   "cell_type": "code",
   "execution_count": 38,
   "id": "21536606-398c-435c-94fc-dcedc2226a99",
   "metadata": {},
   "outputs": [
    {
     "data": {
      "text/plain": [
       "TV\n",
       "100    NaN\n",
       "200    NaN\n",
       "355    NaN\n",
       "465    NaN\n",
       "765    NaN\n",
       "800    NaN\n",
       "1000   NaN\n",
       "2000   NaN\n",
       "Name: Sales, dtype: float64"
      ]
     },
     "execution_count": 38,
     "metadata": {},
     "output_type": "execute_result"
    }
   ],
   "source": [
    "DataFrame['Sales'].groupby(DataFrame['TV']).std()"
   ]
  },
  {
   "cell_type": "code",
   "execution_count": 39,
   "id": "a2201a31-acc7-4827-aeac-812a0b8f87c2",
   "metadata": {},
   "outputs": [
    {
     "data": {
      "text/plain": [
       "TV\n",
       "100      10\n",
       "200      15\n",
       "355      30\n",
       "465      50\n",
       "765      77\n",
       "800      75\n",
       "1000     80\n",
       "2000    150\n",
       "Name: Sales, dtype: int64"
      ]
     },
     "execution_count": 39,
     "metadata": {},
     "output_type": "execute_result"
    }
   ],
   "source": [
    "DataFrame['Sales'].groupby(DataFrame['TV']).max()"
   ]
  },
  {
   "cell_type": "code",
   "execution_count": 9,
   "id": "aaacb150-bc0f-4f70-90cc-69e403d4723a",
   "metadata": {},
   "outputs": [
    {
     "data": {
      "text/html": [
       "<div>\n",
       "<style scoped>\n",
       "    .dataframe tbody tr th:only-of-type {\n",
       "        vertical-align: middle;\n",
       "    }\n",
       "\n",
       "    .dataframe tbody tr th {\n",
       "        vertical-align: top;\n",
       "    }\n",
       "\n",
       "    .dataframe thead th {\n",
       "        text-align: right;\n",
       "    }\n",
       "</style>\n",
       "<table border=\"1\" class=\"dataframe\">\n",
       "  <thead>\n",
       "    <tr style=\"text-align: right;\">\n",
       "      <th></th>\n",
       "      <th>TV</th>\n",
       "      <th>Sales</th>\n",
       "    </tr>\n",
       "  </thead>\n",
       "  <tbody>\n",
       "    <tr>\n",
       "      <th>TV</th>\n",
       "      <td>1.000000</td>\n",
       "      <td>0.985461</td>\n",
       "    </tr>\n",
       "    <tr>\n",
       "      <th>Sales</th>\n",
       "      <td>0.985461</td>\n",
       "      <td>1.000000</td>\n",
       "    </tr>\n",
       "  </tbody>\n",
       "</table>\n",
       "</div>"
      ],
      "text/plain": [
       "             TV     Sales\n",
       "TV     1.000000  0.985461\n",
       "Sales  0.985461  1.000000"
      ]
     },
     "execution_count": 9,
     "metadata": {},
     "output_type": "execute_result"
    }
   ],
   "source": [
    "DataFrame.corr()"
   ]
  },
  {
   "cell_type": "code",
   "execution_count": 10,
   "id": "0a68168e-342a-447e-af9c-df8ecbf07815",
   "metadata": {},
   "outputs": [
    {
     "data": {
      "text/html": [
       "<div>\n",
       "<style scoped>\n",
       "    .dataframe tbody tr th:only-of-type {\n",
       "        vertical-align: middle;\n",
       "    }\n",
       "\n",
       "    .dataframe tbody tr th {\n",
       "        vertical-align: top;\n",
       "    }\n",
       "\n",
       "    .dataframe thead th {\n",
       "        text-align: right;\n",
       "    }\n",
       "</style>\n",
       "<table border=\"1\" class=\"dataframe\">\n",
       "  <thead>\n",
       "    <tr style=\"text-align: right;\">\n",
       "      <th></th>\n",
       "      <th>TV</th>\n",
       "      <th>Sales</th>\n",
       "    </tr>\n",
       "  </thead>\n",
       "  <tbody>\n",
       "    <tr>\n",
       "      <th>count</th>\n",
       "      <td>8.00000</td>\n",
       "      <td>8.000000</td>\n",
       "    </tr>\n",
       "    <tr>\n",
       "      <th>mean</th>\n",
       "      <td>710.62500</td>\n",
       "      <td>60.875000</td>\n",
       "    </tr>\n",
       "    <tr>\n",
       "      <th>std</th>\n",
       "      <td>606.81509</td>\n",
       "      <td>45.564515</td>\n",
       "    </tr>\n",
       "    <tr>\n",
       "      <th>min</th>\n",
       "      <td>100.00000</td>\n",
       "      <td>10.000000</td>\n",
       "    </tr>\n",
       "    <tr>\n",
       "      <th>25%</th>\n",
       "      <td>316.25000</td>\n",
       "      <td>26.250000</td>\n",
       "    </tr>\n",
       "    <tr>\n",
       "      <th>50%</th>\n",
       "      <td>615.00000</td>\n",
       "      <td>62.500000</td>\n",
       "    </tr>\n",
       "    <tr>\n",
       "      <th>75%</th>\n",
       "      <td>850.00000</td>\n",
       "      <td>77.750000</td>\n",
       "    </tr>\n",
       "    <tr>\n",
       "      <th>max</th>\n",
       "      <td>2000.00000</td>\n",
       "      <td>150.000000</td>\n",
       "    </tr>\n",
       "  </tbody>\n",
       "</table>\n",
       "</div>"
      ],
      "text/plain": [
       "               TV       Sales\n",
       "count     8.00000    8.000000\n",
       "mean    710.62500   60.875000\n",
       "std     606.81509   45.564515\n",
       "min     100.00000   10.000000\n",
       "25%     316.25000   26.250000\n",
       "50%     615.00000   62.500000\n",
       "75%     850.00000   77.750000\n",
       "max    2000.00000  150.000000"
      ]
     },
     "execution_count": 10,
     "metadata": {},
     "output_type": "execute_result"
    }
   ],
   "source": [
    "DataFrame.describe()"
   ]
  },
  {
   "cell_type": "code",
   "execution_count": 19,
   "id": "2ec19e7c-3ba7-4bf9-99be-ec2ed1a80460",
   "metadata": {},
   "outputs": [
    {
     "data": {
      "text/html": [
       "<div>\n",
       "<style scoped>\n",
       "    .dataframe tbody tr th:only-of-type {\n",
       "        vertical-align: middle;\n",
       "    }\n",
       "\n",
       "    .dataframe tbody tr th {\n",
       "        vertical-align: top;\n",
       "    }\n",
       "\n",
       "    .dataframe thead th {\n",
       "        text-align: right;\n",
       "    }\n",
       "</style>\n",
       "<table border=\"1\" class=\"dataframe\">\n",
       "  <thead>\n",
       "    <tr style=\"text-align: right;\">\n",
       "      <th></th>\n",
       "      <th>POLICY0NUM</th>\n",
       "      <th>MODULE</th>\n",
       "      <th>MASTER0CO</th>\n",
       "      <th>LOCATION</th>\n",
       "      <th>SARUNIT</th>\n",
       "      <th>SARSEQNO</th>\n",
       "      <th>SASEQNO</th>\n",
       "      <th>ENTRYDTE</th>\n",
       "      <th>SARPREM</th>\n",
       "    </tr>\n",
       "  </thead>\n",
       "  <tbody>\n",
       "    <tr>\n",
       "      <th>count</th>\n",
       "      <td>4.539000e+03</td>\n",
       "      <td>4539.000000</td>\n",
       "      <td>4539.000000</td>\n",
       "      <td>4539.000000</td>\n",
       "      <td>4539.000000</td>\n",
       "      <td>4539.000000</td>\n",
       "      <td>4539.000000</td>\n",
       "      <td>4.539000e+03</td>\n",
       "      <td>4539.000000</td>\n",
       "    </tr>\n",
       "    <tr>\n",
       "      <th>mean</th>\n",
       "      <td>1.146265e+04</td>\n",
       "      <td>0.653668</td>\n",
       "      <td>1.887420</td>\n",
       "      <td>16.586473</td>\n",
       "      <td>82.601013</td>\n",
       "      <td>3.172285</td>\n",
       "      <td>10.154880</td>\n",
       "      <td>1.214320e+06</td>\n",
       "      <td>-3.375001</td>\n",
       "    </tr>\n",
       "    <tr>\n",
       "      <th>std</th>\n",
       "      <td>1.248077e+05</td>\n",
       "      <td>1.894389</td>\n",
       "      <td>0.993752</td>\n",
       "      <td>11.830379</td>\n",
       "      <td>177.117670</td>\n",
       "      <td>3.039090</td>\n",
       "      <td>13.932818</td>\n",
       "      <td>6.714416e+03</td>\n",
       "      <td>2394.504910</td>\n",
       "    </tr>\n",
       "    <tr>\n",
       "      <th>min</th>\n",
       "      <td>1.050000e+02</td>\n",
       "      <td>0.000000</td>\n",
       "      <td>1.000000</td>\n",
       "      <td>5.000000</td>\n",
       "      <td>1.000000</td>\n",
       "      <td>1.000000</td>\n",
       "      <td>1.000000</td>\n",
       "      <td>1.200629e+06</td>\n",
       "      <td>-112041.000000</td>\n",
       "    </tr>\n",
       "    <tr>\n",
       "      <th>25%</th>\n",
       "      <td>2.970000e+02</td>\n",
       "      <td>0.000000</td>\n",
       "      <td>1.000000</td>\n",
       "      <td>6.000000</td>\n",
       "      <td>10.000000</td>\n",
       "      <td>1.000000</td>\n",
       "      <td>4.000000</td>\n",
       "      <td>1.210331e+06</td>\n",
       "      <td>0.000000</td>\n",
       "    </tr>\n",
       "    <tr>\n",
       "      <th>50%</th>\n",
       "      <td>3.290000e+02</td>\n",
       "      <td>0.000000</td>\n",
       "      <td>1.000000</td>\n",
       "      <td>7.000000</td>\n",
       "      <td>23.000000</td>\n",
       "      <td>3.000000</td>\n",
       "      <td>7.000000</td>\n",
       "      <td>1.211020e+06</td>\n",
       "      <td>0.000000</td>\n",
       "    </tr>\n",
       "    <tr>\n",
       "      <th>75%</th>\n",
       "      <td>2.082000e+03</td>\n",
       "      <td>1.000000</td>\n",
       "      <td>3.000000</td>\n",
       "      <td>30.000000</td>\n",
       "      <td>49.000000</td>\n",
       "      <td>4.000000</td>\n",
       "      <td>11.000000</td>\n",
       "      <td>1.220415e+06</td>\n",
       "      <td>0.000000</td>\n",
       "    </tr>\n",
       "    <tr>\n",
       "      <th>max</th>\n",
       "      <td>7.103009e+06</td>\n",
       "      <td>19.000000</td>\n",
       "      <td>3.000000</td>\n",
       "      <td>30.000000</td>\n",
       "      <td>935.000000</td>\n",
       "      <td>37.000000</td>\n",
       "      <td>114.000000</td>\n",
       "      <td>1.240404e+06</td>\n",
       "      <td>112041.000000</td>\n",
       "    </tr>\n",
       "  </tbody>\n",
       "</table>\n",
       "</div>"
      ],
      "text/plain": [
       "         POLICY0NUM       MODULE    MASTER0CO     LOCATION      SARUNIT  \\\n",
       "count  4.539000e+03  4539.000000  4539.000000  4539.000000  4539.000000   \n",
       "mean   1.146265e+04     0.653668     1.887420    16.586473    82.601013   \n",
       "std    1.248077e+05     1.894389     0.993752    11.830379   177.117670   \n",
       "min    1.050000e+02     0.000000     1.000000     5.000000     1.000000   \n",
       "25%    2.970000e+02     0.000000     1.000000     6.000000    10.000000   \n",
       "50%    3.290000e+02     0.000000     1.000000     7.000000    23.000000   \n",
       "75%    2.082000e+03     1.000000     3.000000    30.000000    49.000000   \n",
       "max    7.103009e+06    19.000000     3.000000    30.000000   935.000000   \n",
       "\n",
       "          SARSEQNO      SASEQNO      ENTRYDTE        SARPREM  \n",
       "count  4539.000000  4539.000000  4.539000e+03    4539.000000  \n",
       "mean      3.172285    10.154880  1.214320e+06      -3.375001  \n",
       "std       3.039090    13.932818  6.714416e+03    2394.504910  \n",
       "min       1.000000     1.000000  1.200629e+06 -112041.000000  \n",
       "25%       1.000000     4.000000  1.210331e+06       0.000000  \n",
       "50%       3.000000     7.000000  1.211020e+06       0.000000  \n",
       "75%       4.000000    11.000000  1.220415e+06       0.000000  \n",
       "max      37.000000   114.000000  1.240404e+06  112041.000000  "
      ]
     },
     "execution_count": 19,
     "metadata": {},
     "output_type": "execute_result"
    }
   ],
   "source": [
    "DF.describe()"
   ]
  },
  {
   "cell_type": "code",
   "execution_count": 11,
   "id": "ea7b35c4-27a1-4ed6-810a-e0bafd8a3a99",
   "metadata": {},
   "outputs": [],
   "source": [
    "from sklearn import preprocessing"
   ]
  },
  {
   "cell_type": "code",
   "execution_count": 12,
   "id": "5e24c7b4-7ac4-45d2-a541-2f41324a45d2",
   "metadata": {},
   "outputs": [
    {
     "data": {
      "text/plain": [
       "array([[0.        , 0.        ],\n",
       "       [0.05263158, 0.03571429],\n",
       "       [0.13421053, 0.14285714],\n",
       "       [0.19210526, 0.28571429],\n",
       "       [0.35      , 0.47857143],\n",
       "       [0.36842105, 0.46428571],\n",
       "       [0.47368421, 0.5       ],\n",
       "       [1.        , 1.        ]])"
      ]
     },
     "execution_count": 12,
     "metadata": {},
     "output_type": "execute_result"
    }
   ],
   "source": [
    "preprocessing.MinMaxScaler().fit_transform(DataFrame)"
   ]
  },
  {
   "cell_type": "code",
   "execution_count": 20,
   "id": "0a4969f8-184f-4cf4-ae21-0645d4f15450",
   "metadata": {},
   "outputs": [],
   "source": [
    "import matplotlib.pyplot as plt"
   ]
  },
  {
   "cell_type": "code",
   "execution_count": 23,
   "id": "13486539-61f3-4c41-ba39-ccad132935e9",
   "metadata": {},
   "outputs": [],
   "source": [
    "%matplotlib inline\n",
    "import numpy "
   ]
  },
  {
   "cell_type": "code",
   "execution_count": 24,
   "id": "65909b52-99a9-4f8c-803c-bad7ef99b3ba",
   "metadata": {},
   "outputs": [],
   "source": [
    "a = range(1,16)\n",
    "mean = 50\n",
    "sigma = 10\n",
    "b = numpy.random.normal(mean,sigma,15).astype(int)"
   ]
  },
  {
   "cell_type": "code",
   "execution_count": 25,
   "id": "72c7ea7f-6db9-42fc-a8ea-4e38163b47ad",
   "metadata": {},
   "outputs": [
    {
     "data": {
      "text/plain": [
       "[<matplotlib.lines.Line2D at 0x28387ffe0f0>]"
      ]
     },
     "execution_count": 25,
     "metadata": {},
     "output_type": "execute_result"
    },
    {
     "data": {
      "image/png": "[encoded data removed]",
      "text/plain": [
       "<Figure size 640x480 with 1 Axes>"
      ]
     },
     "metadata": {},
     "output_type": "display_data"
    }
   ],
   "source": [
    "plt.plot(a,b)"
   ]
  },
  {
   "cell_type": "code",
   "execution_count": 26,
   "id": "f2426dc4-42a4-4c34-b26b-bdc951d66229",
   "metadata": {},
   "outputs": [
    {
     "data": {
      "text/plain": [
       "<BarContainer object of 15 artists>"
      ]
     },
     "execution_count": 26,
     "metadata": {},
     "output_type": "execute_result"
    },
    {
     "data": {
      "image/png": "[encoded data removed]",
      "text/plain": [
       "<Figure size 640x480 with 1 Axes>"
      ]
     },
     "metadata": {},
     "output_type": "display_data"
    }
   ],
   "source": [
    "plt.bar(a,b)"
   ]
  },
  {
   "cell_type": "code",
   "execution_count": 27,
   "id": "33acc4dc-6f75-45d6-949e-2ee504ef9f7a",
   "metadata": {},
   "outputs": [
    {
     "data": {
      "text/plain": [
       "([<matplotlib.patches.Wedge at 0x283888c2270>,\n",
       "  <matplotlib.patches.Wedge at 0x283888dc650>,\n",
       "  <matplotlib.patches.Wedge at 0x28388961460>,\n",
       "  <matplotlib.patches.Wedge at 0x28388996cf0>,\n",
       "  <matplotlib.patches.Wedge at 0x283880e6c90>,\n",
       "  <matplotlib.patches.Wedge at 0x283880e7080>,\n",
       "  <matplotlib.patches.Wedge at 0x283880e7440>,\n",
       "  <matplotlib.patches.Wedge at 0x283880e7890>,\n",
       "  <matplotlib.patches.Wedge at 0x283880e7cb0>,\n",
       "  <matplotlib.patches.Wedge at 0x283881240b0>,\n",
       "  <matplotlib.patches.Wedge at 0x28388124470>,\n",
       "  <matplotlib.patches.Wedge at 0x283881248f0>,\n",
       "  <matplotlib.patches.Wedge at 0x28388124d40>,\n",
       "  <matplotlib.patches.Wedge at 0x28388125160>,\n",
       "  <matplotlib.patches.Wedge at 0x283881255e0>],\n",
       " [Text(1.099623057433797, 0.028794644640075022, ''),\n",
       "  Text(1.0939740842771233, 0.11498131556922482, ''),\n",
       "  Text(1.0696069100332037, 0.2567899102558786, ''),\n",
       "  Text(1.004899996250725, 0.4474103234563246, ''),\n",
       "  Text(0.8726886573401934, 0.6696375940385745, ''),\n",
       "  Text(0.6465637494011524, 0.8899187142432303, ''),\n",
       "  Text(0.3124168425551533, 1.0547017192021015, ''),\n",
       "  Text(-0.11498136038026983, 1.0939740795672914, ''),\n",
       "  Text(-0.5747484837542529, 0.93790414244857, ''),\n",
       "  Text(-0.9526279902935625, 0.5499999200993109, ''),\n",
       "  Text(-1.0996230546535943, -0.028794750811532755, ''),\n",
       "  Text(-0.8899186234397211, -0.6465638743814506, ''),\n",
       "  Text(-0.3124167561503881, -1.054701744796352, ''),\n",
       "  Text(0.44741042930254077, -1.0048999491249446, ''),\n",
       "  Text(1.0162675374911165, -0.4209516507174454, '')])"
      ]
     },
     "execution_count": 27,
     "metadata": {},
     "output_type": "execute_result"
    },
    {
     "data": {
      "image/png": "[encoded data removed]",
      "text/plain": [
       "<Figure size 640x480 with 1 Axes>"
      ]
     },
     "metadata": {},
     "output_type": "display_data"
    }
   ],
   "source": [
    "plt.pie(a,)"
   ]
  },
  {
   "cell_type": "code",
   "execution_count": null,
   "id": "5be94139-1418-42c1-81c8-98b58962d3c2",
   "metadata": {},
   "outputs": [],
   "source": []
  }
 ],
 "metadata": {
  "kernelspec": {
   "display_name": "Python 3 (ipykernel)",
   "language": "python",
   "name": "python3"
  },
  "language_info": {
   "codemirror_mode": {
    "name": "ipython",
    "version": 3
   },
   "file_extension": ".py",
   "mimetype": "text/x-python",
   "name": "python",
   "nbconvert_exporter": "python",
   "pygments_lexer": "ipython3",
   "version": "3.12.4"
  }
 },
 "nbformat": 4,
 "nbformat_minor": 5
}
