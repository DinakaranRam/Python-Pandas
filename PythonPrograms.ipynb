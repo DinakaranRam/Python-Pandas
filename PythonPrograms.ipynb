{
 "cells": [
  {
   "cell_type": "code",
   "execution_count": 2,
   "id": "5b031054-e1ba-4939-9d17-54979a65f837",
   "metadata": {},
   "outputs": [
    {
     "name": "stdout",
     "output_type": "stream",
     "text": [
      "Hi\n"
     ]
    }
   ],
   "source": [
    "print(\"Hi\")"
   ]
  },
  {
   "cell_type": "code",
   "execution_count": 4,
   "id": "84217f38-0360-4a36-8a44-4d4d0623527f",
   "metadata": {},
   "outputs": [
    {
     "name": "stdin",
     "output_type": "stream",
     "text": [
      "Enter Num1: 1234\n",
      "Enter Num2: 3423432\n"
     ]
    },
    {
     "name": "stdout",
     "output_type": "stream",
     "text": [
      "sum: {num1} + {num2} = {sum}\n"
     ]
    }
   ],
   "source": [
    "#Arithmetic Operations\n",
    "num1 = float(input(\"Enter Num1:\"))\n",
    "num2 = float(input(\"Enter Num2:\"))\n",
    "sum = num1+num2\n",
    "print(\"sum: {num1} + {num2} = {sum}\")"
   ]
  },
  {
   "cell_type": "code",
   "execution_count": 11,
   "id": "20db76c2-b3cb-4a98-a32a-e302d6b84bae",
   "metadata": {},
   "outputs": [
    {
     "name": "stdout",
     "output_type": "stream",
     "text": [
      "105\n"
     ]
    }
   ],
   "source": [
    "print(random.randint(100,105))"
   ]
  },
  {
   "cell_type": "code",
   "execution_count": 13,
   "id": "1ed5031d-9ced-46a2-ae8c-9bb6ef11805c",
   "metadata": {},
   "outputs": [
    {
     "name": "stdin",
     "output_type": "stream",
     "text": [
      "Enter Year: 1984\n",
      "Enter Month: 05\n"
     ]
    },
    {
     "name": "stdout",
     "output_type": "stream",
     "text": [
      "      May 1984\n",
      "Mo Tu We Th Fr Sa Su\n",
      "    1  2  3  4  5  6\n",
      " 7  8  9 10 11 12 13\n",
      "14 15 16 17 18 19 20\n",
      "21 22 23 24 25 26 27\n",
      "28 29 30 31\n",
      "\n"
     ]
    }
   ],
   "source": [
    "# Print Calendar\n",
    "import calendar\n",
    "year = int(input(\"Enter Year:\"))\n",
    "month = int(input(\"Enter Month:\"))\n",
    "cal = calendar.month(year,month)\n",
    "print(cal)"
   ]
  },
  {
   "cell_type": "code",
   "execution_count": 18,
   "id": "d05d0b91-9169-4b60-96fa-ad92d9e26129",
   "metadata": {},
   "outputs": [
    {
     "name": "stdin",
     "output_type": "stream",
     "text": [
      "Enter Number: = 20\n"
     ]
    },
    {
     "name": "stdout",
     "output_type": "stream",
     "text": [
      "20 is not a prime number\n",
      "20 is a prime number\n"
     ]
    }
   ],
   "source": [
    "# Prime Number\n",
    "num = int(input(\"Enter Number: =\"))\n",
    "if(num == 1):\n",
    "    print(f\"{num} is not a prime number\")\n",
    "elif (num == 2):\n",
    "    print(f\"{num} is a prime number\")\n",
    "elif (num > 2):\n",
    "    for i in range(2,num):\n",
    "        if(num % i == 0):\n",
    "            print(f\"{num} is not a prime number\")\n",
    "            break\n",
    "    print(f\"{num} is a prime number\")\n",
    "    "
   ]
  },
  {
   "cell_type": "code",
   "execution_count": 2,
   "id": "25e9aa02-2970-42b1-852c-d73dee4144bc",
   "metadata": {},
   "outputs": [
    {
     "name": "stdin",
     "output_type": "stream",
     "text": [
      "Enter lowest numer: 1\n",
      "Enter upper number: 10\n"
     ]
    },
    {
     "name": "stdout",
     "output_type": "stream",
     "text": [
      "Prime numbers between 1 and 10 are:\n",
      "3\n",
      "5\n",
      "5\n",
      "5\n",
      "7\n",
      "7\n",
      "7\n",
      "7\n",
      "7\n",
      "9\n"
     ]
    }
   ],
   "source": [
    "# Prime Number\n",
    "lower = int(input(\"Enter lowest numer:\"))\n",
    "upper = int(input(\"Enter upper number:\"))\n",
    "print(\"Prime numbers between\",lower,\"and\",upper,\"are:\")\n",
    "for i in range (lower,upper+1):\n",
    "    if i > 1 :\n",
    "        for x in range(2,i):\n",
    "            if(i%x) == 0:\n",
    "                break\n",
    "            else:\n",
    "                print(i)"
   ]
  },
  {
   "cell_type": "code",
   "execution_count": 10,
   "id": "5f2536e6-97f2-4042-84d9-b2c41fe0f34e",
   "metadata": {},
   "outputs": [
    {
     "name": "stdin",
     "output_type": "stream",
     "text": [
      "Enter the number 10\n"
     ]
    },
    {
     "name": "stdout",
     "output_type": "stream",
     "text": [
      "0\n",
      "1\n",
      "1\n",
      "2\n",
      "3\n",
      "5\n",
      "8\n",
      "13\n",
      "21\n",
      "34\n"
     ]
    }
   ],
   "source": [
    "# Fibonacci Series\n",
    "n = int(input(\"Enter the number\"))\n",
    "n1,n2 = 0,1\n",
    "print(n1)\n",
    "print(n2)\n",
    "for i in range (3,n+1):\n",
    "    n3 = n1+n2\n",
    "    print(n3)\n",
    "    n1 = n2\n",
    "    n2 = n3\n",
    "    \n",
    "\n",
    "\n"
   ]
  },
  {
   "cell_type": "code",
   "execution_count": null,
   "id": "6db0d8f9-7c3f-479e-b511-627798a591af",
   "metadata": {},
   "outputs": [],
   "source": []
  }
 ],
 "metadata": {
  "kernelspec": {
   "display_name": "Python 3 (ipykernel)",
   "language": "python",
   "name": "python3"
  },
  "language_info": {
   "codemirror_mode": {
    "name": "ipython",
    "version": 3
   },
   "file_extension": ".py",
   "mimetype": "text/x-python",
   "name": "python",
   "nbconvert_exporter": "python",
   "pygments_lexer": "ipython3",
   "version": "3.12.4"
  }
 },
 "nbformat": 4,
 "nbformat_minor": 5
}
